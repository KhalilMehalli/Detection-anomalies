{
 "cells": [
  {
   "cell_type": "code",
   "execution_count": 1,
   "id": "67c2ee80-b36b-4f05-8878-27d895e5b8f7",
   "metadata": {
    "scrolled": true
   },
   "outputs": [
    {
     "name": "stdout",
     "output_type": "stream",
     "text": [
      "Collecting pyod\n",
      "  Downloading pyod-2.0.5-py3-none-any.whl.metadata (46 kB)\n",
      "Requirement already satisfied: joblib in /home/khalil/ls/envs/sfml/lib/python3.12/site-packages (from pyod) (1.5.0)\n",
      "Requirement already satisfied: matplotlib in /home/khalil/ls/envs/sfml/lib/python3.12/site-packages (from pyod) (3.10.1)\n",
      "Requirement already satisfied: numpy>=1.19 in /home/khalil/ls/envs/sfml/lib/python3.12/site-packages (from pyod) (2.1.3)\n",
      "Collecting numba>=0.51 (from pyod)\n",
      "  Downloading numba-0.61.2-cp312-cp312-manylinux2014_x86_64.manylinux_2_17_x86_64.whl.metadata (2.8 kB)\n",
      "Requirement already satisfied: scipy>=1.5.1 in /home/khalil/ls/envs/sfml/lib/python3.12/site-packages (from pyod) (1.15.2)\n",
      "Requirement already satisfied: scikit-learn>=0.22.0 in /home/khalil/ls/envs/sfml/lib/python3.12/site-packages (from pyod) (1.6.1)\n",
      "Collecting llvmlite<0.45,>=0.44.0dev0 (from numba>=0.51->pyod)\n",
      "  Downloading llvmlite-0.44.0-cp312-cp312-manylinux_2_17_x86_64.manylinux2014_x86_64.whl.metadata (5.0 kB)\n",
      "Requirement already satisfied: threadpoolctl>=3.1.0 in /home/khalil/ls/envs/sfml/lib/python3.12/site-packages (from scikit-learn>=0.22.0->pyod) (3.6.0)\n",
      "Requirement already satisfied: contourpy>=1.0.1 in /home/khalil/ls/envs/sfml/lib/python3.12/site-packages (from matplotlib->pyod) (1.3.2)\n",
      "Requirement already satisfied: cycler>=0.10 in /home/khalil/ls/envs/sfml/lib/python3.12/site-packages (from matplotlib->pyod) (0.12.1)\n",
      "Requirement already satisfied: fonttools>=4.22.0 in /home/khalil/ls/envs/sfml/lib/python3.12/site-packages (from matplotlib->pyod) (4.57.0)\n",
      "Requirement already satisfied: kiwisolver>=1.3.1 in /home/khalil/ls/envs/sfml/lib/python3.12/site-packages (from matplotlib->pyod) (1.4.8)\n",
      "Requirement already satisfied: packaging>=20.0 in /home/khalil/ls/envs/sfml/lib/python3.12/site-packages (from matplotlib->pyod) (24.2)\n",
      "Requirement already satisfied: pillow>=8 in /home/khalil/ls/envs/sfml/lib/python3.12/site-packages (from matplotlib->pyod) (11.2.1)\n",
      "Requirement already satisfied: pyparsing>=2.3.1 in /home/khalil/ls/envs/sfml/lib/python3.12/site-packages (from matplotlib->pyod) (3.2.3)\n",
      "Requirement already satisfied: python-dateutil>=2.7 in /home/khalil/ls/envs/sfml/lib/python3.12/site-packages (from matplotlib->pyod) (2.9.0.post0)\n",
      "Requirement already satisfied: six>=1.5 in /home/khalil/ls/envs/sfml/lib/python3.12/site-packages (from python-dateutil>=2.7->matplotlib->pyod) (1.17.0)\n",
      "Downloading pyod-2.0.5-py3-none-any.whl (200 kB)\n",
      "Downloading numba-0.61.2-cp312-cp312-manylinux2014_x86_64.manylinux_2_17_x86_64.whl (3.9 MB)\n",
      "\u001b[2K   \u001b[90m━━━━━━━━━━━━━━━━━━━━━━━━━━━━━━━━━━━━━━━━\u001b[0m \u001b[32m3.9/3.9 MB\u001b[0m \u001b[31m3.7 MB/s\u001b[0m eta \u001b[36m0:00:00\u001b[0ma \u001b[36m0:00:01\u001b[0m\n",
      "Downloading llvmlite-0.44.0-cp312-cp312-manylinux_2_17_x86_64.manylinux2014_x86_64.whl (42.4 MB)\n",
      "\u001b[2K   \u001b[90m━━━━━━━━━━━━━━━━━━━━━━━━━━━━━━━━━━━━━━━━\u001b[0m \u001b[32m42.4/42.4 MB\u001b[0m \u001b[31m5.0 MB/s\u001b[0m eta \u001b[36m0:00:00\u001b[0m00:01\u001b[0m00:01\u001b[0m\n",
      "Installing collected packages: llvmlite, numba, pyod\n",
      "Successfully installed llvmlite-0.44.0 numba-0.61.2 pyod-2.0.5\n"
     ]
    }
   ],
   "source": [
    "!pip install pyod"
   ]
  },
  {
   "cell_type": "code",
   "execution_count": 6,
   "id": "251fb848-37fc-441a-988a-017db52d98fc",
   "metadata": {},
   "outputs": [],
   "source": [
    "from benchmark import *\n",
    "from pyod.models.auto_encoder import AutoEncoder\n",
    "import numpy as np\n",
    "from sklearn.metrics import roc_auc_score, recall_score"
   ]
  },
  {
   "cell_type": "code",
   "execution_count": 4,
   "id": "63c3ce51-9b4a-4fbe-bbaa-59c46e66bd0a",
   "metadata": {},
   "outputs": [],
   "source": [
    "filenames = list_all_file_name_in_folder()\n",
    "datasets = csv_data_into_bunch(filenames)"
   ]
  },
  {
   "cell_type": "markdown",
   "id": "1323f3e6-6c9f-4c29-beb8-55002d01ea29",
   "metadata": {},
   "source": [
    "### AutoEncoder"
   ]
  },
  {
   "cell_type": "code",
   "execution_count": 10,
   "id": "7caa6202-dd1c-43f1-9865-2cdc2fb9b728",
   "metadata": {},
   "outputs": [],
   "source": [
    "def run_autoencoder(bunch, params):\n",
    "    x, y_ground_truth = bunch.data, bunch.target\n",
    "    AE = AutoEncoder(**params)\n",
    "\n",
    "    # Fit + predict \n",
    "    start = time.perf_counter()\n",
    "    AE.fit(x)\n",
    "    y_pred = AE.predict(x) \n",
    "    elapsed = time.perf_counter() - start\n",
    "\n",
    "    scores = AE.decision_function(x)\n",
    "\n",
    "    auc = roc_auc_score(y_ground_truth, scores)\n",
    "    recall = recall_score(y_ground_truth, y_pred)\n",
    "    \n",
    "    return {\n",
    "        'auc':    auc,\n",
    "        'recall': recall,\n",
    "        'time':   elapsed\n",
    "    }"
   ]
  },
  {
   "cell_type": "code",
   "execution_count": null,
   "id": "11b553e4-7c22-4f6b-a449-30ec1f2dd3dc",
   "metadata": {},
   "outputs": [],
   "source": []
  }
 ],
 "metadata": {
  "kernelspec": {
   "display_name": "Python 3 (ipykernel)",
   "language": "python",
   "name": "python3"
  },
  "language_info": {
   "codemirror_mode": {
    "name": "ipython",
    "version": 3
   },
   "file_extension": ".py",
   "mimetype": "text/x-python",
   "name": "python",
   "nbconvert_exporter": "python",
   "pygments_lexer": "ipython3",
   "version": "3.12.8"
  }
 },
 "nbformat": 4,
 "nbformat_minor": 5
}
