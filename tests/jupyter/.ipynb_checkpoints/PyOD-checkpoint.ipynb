{
 "cells": [
  {
   "cell_type": "code",
   "execution_count": 1,
   "id": "67c2ee80-b36b-4f05-8878-27d895e5b8f7",
   "metadata": {
    "scrolled": true
   },
   "outputs": [
    {
     "name": "stdout",
     "output_type": "stream",
     "text": [
      "Collecting pyod\n",
      "  Downloading pyod-2.0.5-py3-none-any.whl.metadata (46 kB)\n",
      "Requirement already satisfied: joblib in /home/khalil/ls/envs/sfml/lib/python3.12/site-packages (from pyod) (1.5.0)\n",
      "Requirement already satisfied: matplotlib in /home/khalil/ls/envs/sfml/lib/python3.12/site-packages (from pyod) (3.10.1)\n",
      "Requirement already satisfied: numpy>=1.19 in /home/khalil/ls/envs/sfml/lib/python3.12/site-packages (from pyod) (2.1.3)\n",
      "Collecting numba>=0.51 (from pyod)\n",
      "  Downloading numba-0.61.2-cp312-cp312-manylinux2014_x86_64.manylinux_2_17_x86_64.whl.metadata (2.8 kB)\n",
      "Requirement already satisfied: scipy>=1.5.1 in /home/khalil/ls/envs/sfml/lib/python3.12/site-packages (from pyod) (1.15.2)\n",
      "Requirement already satisfied: scikit-learn>=0.22.0 in /home/khalil/ls/envs/sfml/lib/python3.12/site-packages (from pyod) (1.6.1)\n",
      "Collecting llvmlite<0.45,>=0.44.0dev0 (from numba>=0.51->pyod)\n",
      "  Downloading llvmlite-0.44.0-cp312-cp312-manylinux_2_17_x86_64.manylinux2014_x86_64.whl.metadata (5.0 kB)\n",
      "Requirement already satisfied: threadpoolctl>=3.1.0 in /home/khalil/ls/envs/sfml/lib/python3.12/site-packages (from scikit-learn>=0.22.0->pyod) (3.6.0)\n",
      "Requirement already satisfied: contourpy>=1.0.1 in /home/khalil/ls/envs/sfml/lib/python3.12/site-packages (from matplotlib->pyod) (1.3.2)\n",
      "Requirement already satisfied: cycler>=0.10 in /home/khalil/ls/envs/sfml/lib/python3.12/site-packages (from matplotlib->pyod) (0.12.1)\n",
      "Requirement already satisfied: fonttools>=4.22.0 in /home/khalil/ls/envs/sfml/lib/python3.12/site-packages (from matplotlib->pyod) (4.57.0)\n",
      "Requirement already satisfied: kiwisolver>=1.3.1 in /home/khalil/ls/envs/sfml/lib/python3.12/site-packages (from matplotlib->pyod) (1.4.8)\n",
      "Requirement already satisfied: packaging>=20.0 in /home/khalil/ls/envs/sfml/lib/python3.12/site-packages (from matplotlib->pyod) (24.2)\n",
      "Requirement already satisfied: pillow>=8 in /home/khalil/ls/envs/sfml/lib/python3.12/site-packages (from matplotlib->pyod) (11.2.1)\n",
      "Requirement already satisfied: pyparsing>=2.3.1 in /home/khalil/ls/envs/sfml/lib/python3.12/site-packages (from matplotlib->pyod) (3.2.3)\n",
      "Requirement already satisfied: python-dateutil>=2.7 in /home/khalil/ls/envs/sfml/lib/python3.12/site-packages (from matplotlib->pyod) (2.9.0.post0)\n",
      "Requirement already satisfied: six>=1.5 in /home/khalil/ls/envs/sfml/lib/python3.12/site-packages (from python-dateutil>=2.7->matplotlib->pyod) (1.17.0)\n",
      "Downloading pyod-2.0.5-py3-none-any.whl (200 kB)\n",
      "Downloading numba-0.61.2-cp312-cp312-manylinux2014_x86_64.manylinux_2_17_x86_64.whl (3.9 MB)\n",
      "\u001b[2K   \u001b[90m━━━━━━━━━━━━━━━━━━━━━━━━━━━━━━━━━━━━━━━━\u001b[0m \u001b[32m3.9/3.9 MB\u001b[0m \u001b[31m3.7 MB/s\u001b[0m eta \u001b[36m0:00:00\u001b[0ma \u001b[36m0:00:01\u001b[0m\n",
      "Downloading llvmlite-0.44.0-cp312-cp312-manylinux_2_17_x86_64.manylinux2014_x86_64.whl (42.4 MB)\n",
      "\u001b[2K   \u001b[90m━━━━━━━━━━━━━━━━━━━━━━━━━━━━━━━━━━━━━━━━\u001b[0m \u001b[32m42.4/42.4 MB\u001b[0m \u001b[31m5.0 MB/s\u001b[0m eta \u001b[36m0:00:00\u001b[0m00:01\u001b[0m00:01\u001b[0m\n",
      "Installing collected packages: llvmlite, numba, pyod\n",
      "Successfully installed llvmlite-0.44.0 numba-0.61.2 pyod-2.0.5\n"
     ]
    }
   ],
   "source": [
    "!pip install pyod"
   ]
  },
  {
   "cell_type": "code",
   "execution_count": 1,
   "id": "251fb848-37fc-441a-988a-017db52d98fc",
   "metadata": {},
   "outputs": [],
   "source": [
    "import sys\n",
    "sys.path.append(\"..\") # Not great \n",
    "from benchmark import *\n",
    "from python.creation import barplot\n",
    "sys.path.append(\"\")\n",
    "from pyod.models.auto_encoder import AutoEncoder\n",
    "from pyod.utils.data import evaluate_print\n",
    "import numpy as np\n",
    "from sklearn.metrics import roc_auc_score, recall_score\n",
    "import matplotlib.pyplot as plt\n",
    "from pyod.models.vae import VAE\n",
    "from pyod.models.deep_svdd import DeepSVDD\n",
    "from pyod.models.ae1svm import AE1SVM\n",
    "from pyod.models.knn import KNN\n",
    "from pyod.models.anogan import AnoGAN\n",
    " "
   ]
  },
  {
   "cell_type": "code",
   "execution_count": 2,
   "id": "63c3ce51-9b4a-4fbe-bbaa-59c46e66bd0a",
   "metadata": {},
   "outputs": [
    {
     "name": "stdout",
     "output_type": "stream",
     "text": [
      "['../../data_rapport/speech.csv', '../../data_rapport/cancerS.csv', '../../data_rapport/donneurs.csv', '../../data_rapport/satellite.csv', '../../data_rapport/fraude.csv', '../../data_rapport/http.csv', '../../data_rapport/shuttle.csv']\n"
     ]
    }
   ],
   "source": [
    "filenames = list_all_file_name_in_folder(\"../../data_rapport\")\n",
    "datasets = csv_data_into_bunch(filenames)\n",
    "speech = datasets[0]\n",
    "cancer = datasets[1]\n",
    "fraude = datasets[4]\n",
    "print(filenames)"
   ]
  },
  {
   "cell_type": "markdown",
   "id": "1323f3e6-6c9f-4c29-beb8-55002d01ea29",
   "metadata": {},
   "source": [
    "### AutoEncoder"
   ]
  },
  {
   "cell_type": "code",
   "execution_count": 3,
   "id": "61c98a60-e480-41ed-8769-a550a1d5d91f",
   "metadata": {},
   "outputs": [
    {
     "name": "stdout",
     "output_type": "stream",
     "text": [
      "<class 'sklearn.utils._bunch.Bunch'>\n",
      "(3686, 400)\n",
      "(284807, 29)\n",
      "[1. 1. 1. ... 0. 0. 0.]\n"
     ]
    }
   ],
   "source": [
    "print(type(speech))\n",
    "print(speech.data.shape)\n",
    "print(fraude.data.shape)\n",
    "print(speech.target)"
   ]
  },
  {
   "cell_type": "code",
   "execution_count": 13,
   "id": "7caa6202-dd1c-43f1-9865-2cdc2fb9b728",
   "metadata": {},
   "outputs": [],
   "source": [
    "def run_autoencoder(bunch, params):\n",
    "    x, y_ground_truth = bunch.data, bunch.target\n",
    "    AE = AutoEncoder(**params)\n",
    "\n",
    "    # Fit + predict \n",
    "    start = time.perf_counter()\n",
    "    AE.fit(x)\n",
    "    y_pred = AE.predict(x) \n",
    "    elapsed = time.perf_counter() - start\n",
    "\n",
    "    print(type(AE))\n",
    "\n",
    "    scores = AE.decision_function(x)\n",
    "\n",
    "    #### Test, not in the real run_autoencoder function \n",
    "    evaluate_print('AutoEncoder', y_ground_truth, scores)\n",
    "\n",
    "    ####\n",
    "\n",
    "    auc = roc_auc_score(y_ground_truth, scores)\n",
    "    recall = recall_score(y_ground_truth, y_pred)\n",
    "    \n",
    "    return {\n",
    "        'auc':    auc,\n",
    "        'recall': recall,\n",
    "        'time':   elapsed\n",
    "    }"
   ]
  },
  {
   "cell_type": "code",
   "execution_count": 14,
   "id": "f19ea36e-a43d-4983-99e8-1ce17bc9ebd2",
   "metadata": {},
   "outputs": [
    {
     "name": "stderr",
     "output_type": "stream",
     "text": [
      "Training: 100%|███████████████████████████████████████████████████████████████| 10/10 [00:03<00:00,  3.04it/s]\n"
     ]
    },
    {
     "name": "stdout",
     "output_type": "stream",
     "text": [
      "<class 'pyod.models.auto_encoder.AutoEncoder'>\n",
      "AutoEncoder ROC:0.4699, precision @ rank n:0.0328\n",
      "{'auc': np.float64(0.4698564160542679), 'recall': 0.01639344262295082, 'time': 5.652454851000584}\n"
     ]
    },
    {
     "name": "stderr",
     "output_type": "stream",
     "text": [
      "Training: 100%|███████████████████████████████████████████████████████████████| 10/10 [00:05<00:00,  1.84it/s]\n"
     ]
    },
    {
     "name": "stdout",
     "output_type": "stream",
     "text": [
      "<class 'pyod.models.auto_encoder.AutoEncoder'>\n",
      "AutoEncoder ROC:0.472, precision @ rank n:0.0164\n",
      "{'auc': np.float64(0.4719954776710006), 'recall': 0.01639344262295082, 'time': 5.719942424999317}\n"
     ]
    },
    {
     "name": "stderr",
     "output_type": "stream",
     "text": [
      "Training: 100%|███████████████████████████████████████████████████████████████| 10/10 [00:07<00:00,  1.41it/s]\n"
     ]
    },
    {
     "name": "stdout",
     "output_type": "stream",
     "text": [
      "<class 'pyod.models.auto_encoder.AutoEncoder'>\n",
      "AutoEncoder ROC:0.4739, precision @ rank n:0.0164\n",
      "{'auc': np.float64(0.4739265121537592), 'recall': 0.01639344262295082, 'time': 7.428571648000798}\n"
     ]
    },
    {
     "name": "stderr",
     "output_type": "stream",
     "text": [
      "Training: 100%|███████████████████████████████████████████████████████████████| 20/20 [00:13<00:00,  1.45it/s]\n"
     ]
    },
    {
     "name": "stdout",
     "output_type": "stream",
     "text": [
      "<class 'pyod.models.auto_encoder.AutoEncoder'>\n",
      "AutoEncoder ROC:0.4721, precision @ rank n:0.0164\n",
      "{'auc': np.float64(0.4721447145279819), 'recall': 0.01639344262295082, 'time': 14.116311917998246}\n"
     ]
    },
    {
     "name": "stderr",
     "output_type": "stream",
     "text": [
      "Training: 100%|███████████████████████████████████████████████████████████████| 10/10 [00:04<00:00,  2.42it/s]\n"
     ]
    },
    {
     "name": "stdout",
     "output_type": "stream",
     "text": [
      "<class 'pyod.models.auto_encoder.AutoEncoder'>\n",
      "AutoEncoder ROC:0.4714, precision @ rank n:0.0164\n",
      "{'auc': np.float64(0.47135330695308086), 'recall': 0.01639344262295082, 'time': 4.378970248000769}\n"
     ]
    },
    {
     "name": "stderr",
     "output_type": "stream",
     "text": [
      "Training: 100%|███████████████████████████████████████████████████████████████| 20/20 [00:08<00:00,  2.45it/s]\n"
     ]
    },
    {
     "name": "stdout",
     "output_type": "stream",
     "text": [
      "<class 'pyod.models.auto_encoder.AutoEncoder'>\n",
      "AutoEncoder ROC:0.4699, precision @ rank n:0.0164\n",
      "{'auc': np.float64(0.46994234030525717), 'recall': 0.01639344262295082, 'time': 8.400282393000452}\n"
     ]
    },
    {
     "name": "stderr",
     "output_type": "stream",
     "text": [
      "Training: 100%|█████████████████████████████████████████████████████████████| 100/100 [00:29<00:00,  3.41it/s]\n"
     ]
    },
    {
     "name": "stdout",
     "output_type": "stream",
     "text": [
      "<class 'pyod.models.auto_encoder.AutoEncoder'>\n",
      "AutoEncoder ROC:0.479, precision @ rank n:0.0164\n",
      "{'auc': np.float64(0.47897795364612783), 'recall': 0.01639344262295082, 'time': 29.594739235000816}\n"
     ]
    },
    {
     "name": "stderr",
     "output_type": "stream",
     "text": [
      "Training: 100%|█████████████████████████████████████████████████████████████| 200/200 [01:36<00:00,  2.07it/s]\n"
     ]
    },
    {
     "name": "stdout",
     "output_type": "stream",
     "text": [
      "<class 'pyod.models.auto_encoder.AutoEncoder'>\n",
      "AutoEncoder ROC:0.5007, precision @ rank n:0.0328\n",
      "{'auc': np.float64(0.5007439231204069), 'recall': 0.03278688524590164, 'time': 96.83583714799897}\n"
     ]
    }
   ],
   "source": [
    "# Default = epoch_num=10, batch_size=32, lr=0.001, hidden_neuron_list=[64, 32], hidden_activation_name='relu'\n",
    "# speech 3650 * 400 \n",
    "tests = [\n",
    "    {'contamination':0.01, 'random_state': 10},\n",
    "    {'contamination':0.01, 'random_state': 10,'hidden_neuron_list' :[128, 64, 32] },\n",
    "    {'contamination':0.01, 'random_state': 10,'hidden_neuron_list' :[256, 128, 64, 32] },\n",
    "    {'contamination':0.01, 'random_state': 10,'hidden_neuron_list' :[256, 128, 64, 32], 'epoch_num' :20},\n",
    "    {'contamination':0.01, 'random_state': 10,'hidden_neuron_list' :[256, 128, 64, 32], 'batch_size' :64},\n",
    "    {'contamination':0.01, 'random_state': 10,'hidden_neuron_list' :[256, 128, 64, 32], 'batch_size' :64 , 'epoch_num' :20},\n",
    "    {'contamination':0.01, 'random_state': 10,'hidden_neuron_list' :[128, 64, 32], 'batch_size' :64 , 'epoch_num' :100},\n",
    "    {'contamination':0.01, 'random_state': 10,'hidden_neuron_list' :[256, 128, 64, 32], 'batch_size' :64 , 'epoch_num' :200}\n",
    "]\n",
    "\n",
    "for i in tests:\n",
    "    res = run_autoencoder(speech,i)\n",
    "    print(res)\n"
   ]
  },
  {
   "cell_type": "code",
   "execution_count": 6,
   "id": "dadbfde4-9f14-4d6a-8567-0c17e2660638",
   "metadata": {},
   "outputs": [
    {
     "name": "stderr",
     "output_type": "stream",
     "text": [
      "Training: 100%|█████████████████████████████████████████████████████████████████████████████████████████████████| 10/10 [03:38<00:00, 21.89s/it]\n"
     ]
    },
    {
     "name": "stdout",
     "output_type": "stream",
     "text": [
      "AutoEncoder ROC:0.9533, precision @ rank n:0.3801\n",
      "{'auc': np.float64(0.9532757702187928), 'recall': 0.6544715447154471, 'time': 237.7655148039994}\n"
     ]
    },
    {
     "name": "stderr",
     "output_type": "stream",
     "text": [
      "Training: 100%|█████████████████████████████████████████████████████████████████████████████████████████████████| 10/10 [05:42<00:00, 34.23s/it]\n"
     ]
    },
    {
     "name": "stdout",
     "output_type": "stream",
     "text": [
      "AutoEncoder ROC:0.9505, precision @ rank n:0.313\n",
      "{'auc': np.float64(0.9505196486377399), 'recall': 0.6117886178861789, 'time': 360.93116471199755}\n"
     ]
    },
    {
     "name": "stderr",
     "output_type": "stream",
     "text": [
      "Training: 100%|█████████████████████████████████████████████████████████████████████████████████████████████████| 10/10 [10:21<00:00, 62.15s/it]\n"
     ]
    },
    {
     "name": "stdout",
     "output_type": "stream",
     "text": [
      "AutoEncoder ROC:0.9513, precision @ rank n:0.3943\n",
      "{'auc': np.float64(0.9512521787854391), 'recall': 0.6626016260162602, 'time': 643.4552038289985}\n"
     ]
    },
    {
     "name": "stderr",
     "output_type": "stream",
     "text": [
      "Training: 100%|█████████████████████████████████████████████████████████████████████████████████████████████████| 20/20 [17:32<00:00, 52.63s/it]\n"
     ]
    },
    {
     "name": "stdout",
     "output_type": "stream",
     "text": [
      "AutoEncoder ROC:0.9522, precision @ rank n:0.3415\n",
      "{'auc': np.float64(0.952197636910509), 'recall': 0.6483739837398373, 'time': 1081.1407605640015}\n"
     ]
    },
    {
     "name": "stderr",
     "output_type": "stream",
     "text": [
      "Training: 100%|███████████████████████████████████████████████████████████████| 10/10 [04:36<00:00, 27.67s/it]\n"
     ]
    },
    {
     "name": "stdout",
     "output_type": "stream",
     "text": [
      "AutoEncoder ROC:0.9441, precision @ rank n:0.3028\n",
      "{'auc': np.float64(0.9441231485059869), 'recall': 0.5650406504065041, 'time': 297.86277288400015}\n"
     ]
    },
    {
     "name": "stderr",
     "output_type": "stream",
     "text": [
      "Training: 100%|███████████████████████████████████████████████████████████████| 20/20 [11:30<00:00, 34.51s/it]\n"
     ]
    },
    {
     "name": "stdout",
     "output_type": "stream",
     "text": [
      "AutoEncoder ROC:0.94, precision @ rank n:0.3577\n",
      "{'auc': np.float64(0.9400395065932968), 'recall': 0.556910569105691, 'time': 708.8273322060013}\n"
     ]
    },
    {
     "name": "stderr",
     "output_type": "stream",
     "text": [
      "Training: 100%|█████████████████████████████████████████████████████████████| 100/100 [31:35<00:00, 18.95s/it]\n"
     ]
    },
    {
     "name": "stdout",
     "output_type": "stream",
     "text": [
      "AutoEncoder ROC:0.9381, precision @ rank n:0.1426\n",
      "{'auc': np.float64(0.9381175679843252), 'recall': 0.4065040650406504, 'time': 1907.5834561049996}\n"
     ]
    }
   ],
   "source": [
    "# http 620 098 * 29\n",
    "tests_fraude = [\n",
    "    {'contamination':0.01, 'random_state': 10},\n",
    "    {'contamination':0.01, 'random_state': 10,'hidden_neuron_list' :[128, 64, 32] },\n",
    "    {'contamination':0.01, 'random_state': 10,'hidden_neuron_list' :[256, 128, 64, 32] },\n",
    "    {'contamination':0.01, 'random_state': 10,'hidden_neuron_list' :[256, 128, 64, 32], 'epoch_num' :20},\n",
    "    {'contamination':0.01, 'random_state': 10,'hidden_neuron_list' :[256, 128, 64, 32], 'batch_size' :64},\n",
    "    {'contamination':0.01, 'random_state': 10,'hidden_neuron_list' :[256, 128, 64, 32], 'batch_size' :64 , 'epoch_num' :20},\n",
    "    {'contamination':0.01, 'random_state': 10,'hidden_neuron_list' :[128, 64, 32], 'batch_size' :64 , 'epoch_num' :100},\n",
    "\n",
    "]\n",
    "\n",
    "\n",
    "for i in tests_fraude:\n",
    "    res = run_autoencoder(fraude,i)\n",
    "    print(res)\n"
   ]
  },
  {
   "cell_type": "markdown",
   "id": "efd353b8-36b7-40b4-abd8-d07eb670e578",
   "metadata": {},
   "source": [
    "### Plot test"
   ]
  },
  {
   "cell_type": "code",
   "execution_count": 15,
   "id": "3d1d76db-3e16-468e-8182-c82ed25db21e",
   "metadata": {},
   "outputs": [],
   "source": [
    "def run_autoencoder_plot(bunch, params):\n",
    "    x, y_ground_truth = bunch.data, bunch.target\n",
    "    AE = AutoEncoder(**params)\n",
    "\n",
    "    # Fit + predict \n",
    "    start = time.perf_counter()\n",
    "    AE.fit(x)\n",
    "    y_pred = AE.predict(x) \n",
    "    elapsed = time.perf_counter() - start\n",
    "\n",
    "    scores = AE.decision_function(x)\n",
    "\n",
    "    #### Test, not in the real run_autoencoder function \n",
    "    evaluate_print('AutoEncoder', y_ground_truth, scores)\n",
    "    scores_proba = AE.predict_proba(x)[:,1]\n",
    "    plt.figure()\n",
    "    barplot(scores_proba,y_ground_truth,title='Outlier scores from predict_proba')\n",
    "    plt.show()\n",
    "\n",
    "    ####\n",
    "\n",
    "    auc = roc_auc_score(y_ground_truth, scores)\n",
    "    recall = recall_score(y_ground_truth, y_pred)\n",
    "    \n",
    "    return {\n",
    "        'auc':    auc,\n",
    "        'recall': recall,\n",
    "        'time':   elapsed\n",
    "    }"
   ]
  },
  {
   "cell_type": "code",
   "execution_count": 17,
   "id": "ca6950dd-a795-4778-9c35-78d6d40691f7",
   "metadata": {},
   "outputs": [
    {
     "name": "stderr",
     "output_type": "stream",
     "text": [
      "Training: 100%|█████████████████████████████████████████████████████████████| 200/200 [01:29<00:00,  2.23it/s]\n"
     ]
    },
    {
     "name": "stdout",
     "output_type": "stream",
     "text": [
      "AutoEncoder ROC:0.5007, precision @ rank n:0.0328\n",
      "Plot execution time : 2.1202 s\n"
     ]
    },
    {
     "data": {
      "image/png": "[encoded data removed]",
      "text/plain": [
       "<Figure size 640x480 with 1 Axes>"
      ]
     },
     "metadata": {},
     "output_type": "display_data"
    },
    {
     "data": {
      "text/plain": [
       "{'auc': np.float64(0.5007439231204069),\n",
       " 'recall': 0.03278688524590164,\n",
       " 'time': 90.07660063899857}"
      ]
     },
     "execution_count": 17,
     "metadata": {},
     "output_type": "execute_result"
    }
   ],
   "source": [
    "run_autoencoder_plot(speech,tests[7])\n",
    "#run_autoencoder_plot(cancer,tests[7])"
   ]
  },
  {
   "cell_type": "markdown",
   "id": "0a95231d-b83b-4f1e-8b10-0f99776b3317",
   "metadata": {},
   "source": [
    "### VAE, DeepSVDD, AE1SVM, KNN"
   ]
  },
  {
   "cell_type": "code",
   "execution_count": 18,
   "id": "11b553e4-7c22-4f6b-a449-30ec1f2dd3dc",
   "metadata": {},
   "outputs": [],
   "source": [
    "def run_vae(bunch, params):\n",
    "    x, y_ground_truth = bunch.data, bunch.target\n",
    "    VAE_model = VAE(**params)\n",
    "\n",
    "    # Fit + predict \n",
    "    start = time.perf_counter()\n",
    "    VAE_model.fit(x)\n",
    "    y_pred = VAE_model.predict(x)\n",
    "    elapsed = time.perf_counter() - start\n",
    "\n",
    "    # metrics\n",
    "    scores = VAE_model.decision_function(x)\n",
    "    \n",
    "    auc = roc_auc_score(y_ground_truth, scores)\n",
    "    recall = recall_score(y_ground_truth, y_pred)\n",
    "\n",
    "    return {\n",
    "        'auc':    auc,\n",
    "        'recall': recall,\n",
    "        'time':   elapsed\n",
    "    }\n",
    "\n",
    "\n",
    "\n",
    "def run_deepsvdd(bunch, params):\n",
    "    x, y_ground_truth = bunch.data, bunch.target\n",
    "\n",
    "    # DeepSVDD have a mandatory parameters, the features numbers of the dataset      <- <- <-\n",
    "    features = x.shape[1]\n",
    "    params[\"n_features\"] = features\n",
    "    \n",
    "    DS = DeepSVDD(**params)\n",
    "\n",
    "    # Fit + predict \n",
    "    start = time.perf_counter()\n",
    "    DS.fit(x)\n",
    "    y_pred = DS.predict(x)\n",
    "    elapsed = time.perf_counter() - start\n",
    "\n",
    "    # metrics \n",
    "    scores = DS.decision_function(x)\n",
    "    \n",
    "    auc = roc_auc_score(y_ground_truth, scores)\n",
    "    recall = recall_score(y_ground_truth, y_pred)\n",
    "\n",
    "    return {\n",
    "        'auc':    auc,\n",
    "        'recall': recall,\n",
    "        'time':   elapsed\n",
    "    }\n",
    "\n",
    "def run_ae1svm(bunch, params):\n",
    "    x, y_ground_truth = bunch.data, bunch.target\n",
    "\n",
    "    AE1SVM_model = AE1SVM(**params)\n",
    "\n",
    "    # Fit + predict \n",
    "    start = time.perf_counter()\n",
    "    AE1SVM_model.fit(x)\n",
    "    y_pred = AE1SVM_model.predict(x)\n",
    "    elapsed = time.perf_counter() - start\n",
    "\n",
    "    # metrics\n",
    "    scores = AE1SVM_model.decision_function(x)\n",
    "    \n",
    "    auc = roc_auc_score(y_ground_truth, scores)\n",
    "    recall = recall_score(y_ground_truth, y_pred)\n",
    "\n",
    "    return {\n",
    "        'auc':    auc,\n",
    "        'recall': recall,\n",
    "        'time':   elapsed\n",
    "    }\n",
    "\n",
    "def run_knn(bunch, params):\n",
    "    x, y_ground_truth = bunch.data, bunch.target\n",
    "    KNN_model = KNN(**params)\n",
    "\n",
    "    # Fit + predict \n",
    "    start = time.perf_counter()\n",
    "    KNN_model.fit(x)\n",
    "    y_pred = KNN_model.predict(x)\n",
    "    elapsed = time.perf_counter() - start\n",
    "\n",
    "    # metrics\n",
    "    scores = KNN_model.decision_function(x)\n",
    "    \n",
    "    auc = roc_auc_score(y_ground_truth, scores)\n",
    "    recall = recall_score(y_ground_truth, y_pred)\n",
    "\n",
    "    return {\n",
    "        'auc':    auc,\n",
    "        'recall': recall,\n",
    "        'time':   elapsed\n",
    "    }"
   ]
  },
  {
   "cell_type": "code",
   "execution_count": 19,
   "id": "e4a2d9ec-cf42-4bae-8a34-289dc673cc64",
   "metadata": {},
   "outputs": [],
   "source": [
    "algorithms = [\n",
    "    (\"VAE\",          run_vae,       {\"random_state\":10, \"preprocessing\": False,\"epoch_num\": 10}),\n",
    "    (\"DeepSVDD\",     run_deepsvdd,  {\"random_state\":10,\"preprocessing\": False,\"epochs\": 10}),\n",
    "    (\"AE1SVM\",       run_ae1svm,    {\"preprocessing\": False,\"epochs\": 10}),\n",
    "    (\"KNN\",          run_knn,       {})\n",
    "    ]\n",
    "\n",
    "\n",
    "#automatisation(datasets, algorithms)"
   ]
  },
  {
   "cell_type": "markdown",
   "id": "5fba1a5f-4687-4d92-9306-39f1dc8f7209",
   "metadata": {},
   "source": [
    "### AnoGan"
   ]
  },
  {
   "cell_type": "code",
   "execution_count": 25,
   "id": "fbb2f2aa-7af4-458d-b7c5-cafe896ed973",
   "metadata": {},
   "outputs": [],
   "source": [
    "def run_anogan(bunch, params):\n",
    "    x, y_ground_truth = bunch.data, bunch.target\n",
    "    AG = AnoGAN(**params)\n",
    "\n",
    "    # Fit + predict\n",
    "    start = time.perf_counter()\n",
    "    AG.fit(x)\n",
    "    y_pred = AG.predict(x)\n",
    "    elapsed = time.perf_counter() - start\n",
    "    \n",
    "    print(\"fit + predict fini\")\t\n",
    "    # metrics\n",
    "    scores = AG.decision_function(x)\n",
    "\n",
    "    auc    = roc_auc_score(y_ground_truth, scores)\n",
    "    recall = recall_score(y_ground_truth, y_pred)\n",
    "\n",
    "    total_time = time.perf_counter() - start\n",
    "    print(\"Total execution time\", total_time)\n",
    "    \n",
    "    return {\n",
    "        'auc':    auc,\n",
    "        'recall': recall,\n",
    "        'time':   elapsed\n",
    "    }\n"
   ]
  },
  {
   "cell_type": "code",
   "execution_count": 29,
   "id": "01bc9000-90f0-4a04-970c-2fdb37a86cbc",
   "metadata": {},
   "outputs": [
    {
     "name": "stdout",
     "output_type": "stream",
     "text": [
      "speech  : départ\n",
      "   AnoGan : départ\n",
      "fit + predict fini\n"
     ]
    },
    {
     "ename": "NameError",
     "evalue": "name 'anogan_model' is not defined",
     "output_type": "error",
     "traceback": [
      "\u001b[0;31m---------------------------------------------------------------------------\u001b[0m",
      "\u001b[0;31mNameError\u001b[0m                                 Traceback (most recent call last)",
      "Cell \u001b[0;32mIn[29], line 4\u001b[0m\n\u001b[1;32m      1\u001b[0m algorithms \u001b[38;5;241m=\u001b[39m [\n\u001b[1;32m      2\u001b[0m     (\u001b[38;5;124m\"\u001b[39m\u001b[38;5;124mAnoGan\u001b[39m\u001b[38;5;124m\"\u001b[39m, run_anogan, {\u001b[38;5;124m\"\u001b[39m\u001b[38;5;124mpreprocessing\u001b[39m\u001b[38;5;124m\"\u001b[39m: \u001b[38;5;28;01mFalse\u001b[39;00m,\u001b[38;5;124m\"\u001b[39m\u001b[38;5;124mepochs\u001b[39m\u001b[38;5;124m\"\u001b[39m: \u001b[38;5;241m10\u001b[39m}),\n\u001b[1;32m      3\u001b[0m     ]\n\u001b[0;32m----> 4\u001b[0m \u001b[43mbenchmark_dataset_algo\u001b[49m\u001b[43m(\u001b[49m\u001b[43m[\u001b[49m\u001b[43mspeech\u001b[49m\u001b[43m,\u001b[49m\u001b[43mcancer\u001b[49m\u001b[43m]\u001b[49m\u001b[43m,\u001b[49m\u001b[43malgorithms\u001b[49m\u001b[43m)\u001b[49m\n",
      "File \u001b[0;32m~/4eme/stage/tests/jupyter/../benchmark.py:57\u001b[0m, in \u001b[0;36mbenchmark_dataset_algo\u001b[0;34m(datasets, algorithms, auc_csv, recall_csv, time_csv)\u001b[0m\n\u001b[1;32m     55\u001b[0m \u001b[38;5;28;01mfor\u001b[39;00m algo_name, algo_runner, params \u001b[38;5;129;01min\u001b[39;00m algorithms:\n\u001b[1;32m     56\u001b[0m     \u001b[38;5;28mprint\u001b[39m(\u001b[38;5;124m\"\u001b[39m\u001b[38;5;124m  \u001b[39m\u001b[38;5;124m\"\u001b[39m, algo_name, \u001b[38;5;124m\"\u001b[39m\u001b[38;5;124m: départ\u001b[39m\u001b[38;5;124m\"\u001b[39m)\n\u001b[0;32m---> 57\u001b[0m     res \u001b[38;5;241m=\u001b[39m \u001b[43malgo_runner\u001b[49m\u001b[43m(\u001b[49m\u001b[43mbunch\u001b[49m\u001b[43m,\u001b[49m\u001b[43m \u001b[49m\u001b[43mparams\u001b[49m\u001b[43m)\u001b[49m \n\u001b[1;32m     59\u001b[0m     auc_info[algo_name]    \u001b[38;5;241m=\u001b[39m res[\u001b[38;5;124m'\u001b[39m\u001b[38;5;124mauc\u001b[39m\u001b[38;5;124m'\u001b[39m]\n\u001b[1;32m     60\u001b[0m     recall_info[algo_name] \u001b[38;5;241m=\u001b[39m res[\u001b[38;5;124m'\u001b[39m\u001b[38;5;124mrecall\u001b[39m\u001b[38;5;124m'\u001b[39m]\n",
      "Cell \u001b[0;32mIn[25], line 13\u001b[0m, in \u001b[0;36mrun_anogan\u001b[0;34m(bunch, params)\u001b[0m\n\u001b[1;32m     11\u001b[0m \u001b[38;5;28mprint\u001b[39m(\u001b[38;5;124m\"\u001b[39m\u001b[38;5;124mfit + predict fini\u001b[39m\u001b[38;5;124m\"\u001b[39m)\t\n\u001b[1;32m     12\u001b[0m \u001b[38;5;66;03m# metrics\u001b[39;00m\n\u001b[0;32m---> 13\u001b[0m scores \u001b[38;5;241m=\u001b[39m \u001b[43manogan_model\u001b[49m\u001b[38;5;241m.\u001b[39mdecision_function(x)\n\u001b[1;32m     15\u001b[0m auc    \u001b[38;5;241m=\u001b[39m roc_auc_score(y_ground_truth, scores)\n\u001b[1;32m     16\u001b[0m recall \u001b[38;5;241m=\u001b[39m recall_score(y_ground_truth, y_pred)\n",
      "\u001b[0;31mNameError\u001b[0m: name 'anogan_model' is not defined"
     ]
    }
   ],
   "source": [
    "algorithms = [\n",
    "    (\"AnoGan\", run_anogan, {\"preprocessing\": False,\"epochs\": 10}),\n",
    "    ]\n",
    "benchmark_dataset_algo([speech,cancer],algorithms)"
   ]
  },
  {
   "cell_type": "markdown",
   "id": "37e4b8d9-c95e-49b1-9fd7-b85616cc0e21",
   "metadata": {},
   "source": [
    "### OCSVM"
   ]
  },
  {
   "cell_type": "code",
   "execution_count": 3,
   "id": "22b9be34-206f-4062-8128-d5baf515254b",
   "metadata": {},
   "outputs": [],
   "source": [
    "from pyod.models.ocsvm import OCSVM"
   ]
  },
  {
   "cell_type": "code",
   "execution_count": 4,
   "id": "5888d173-0e04-4680-8860-09bab6c5a806",
   "metadata": {},
   "outputs": [],
   "source": [
    "def run_ocsvm(bunch, params):\n",
    "    x, y_ground_truth = bunch.data, bunch.target\n",
    "    OC = OCSVM(**params)\n",
    "\n",
    "    # Fit + predict\n",
    "    start = time.perf_counter()\n",
    "    OC.fit(x)\n",
    "    y_pred = OC.predict(x)\n",
    "    elapsed = time.perf_counter() - start\n",
    "    \n",
    "    print(\"fit + predict fini\")\t\n",
    "    # metrics\n",
    "    scores = OC.decision_function(x)\n",
    "\n",
    "    auc    = roc_auc_score(y_ground_truth, scores)\n",
    "    recall = recall_score(y_ground_truth, y_pred)\n",
    "\n",
    "    total_time = time.perf_counter() - start\n",
    "    print(\"Total execution time\", total_time)\n",
    "    \n",
    "    return {\n",
    "        'auc':    auc,\n",
    "        'recall': recall,\n",
    "        'time':   elapsed\n",
    "    }"
   ]
  },
  {
   "cell_type": "code",
   "execution_count": 5,
   "id": "2a116dda-d1d8-4d3e-a791-ac44ae4fa4e5",
   "metadata": {},
   "outputs": [
    {
     "name": "stdout",
     "output_type": "stream",
     "text": [
      "speech  : départ\n",
      "   OCSVM : départ\n",
      "fit + predict fini\n",
      "Total execution time 6.376582577999216\n",
      "AUC : 0.4662521198417185 RAPPEL : 0.11475409836065574 TEMPS : 4.78564579399972\n",
      "   OCSVM : fini\n",
      "speech  : fini\n",
      "cancerS  : départ\n",
      "   OCSVM : départ\n",
      "fit + predict fini\n",
      "Total execution time 0.01668536299985135\n",
      "AUC : 0.9815126050420168 RAPPEL : 1.0 TEMPS : 0.01083411400031764\n",
      "   OCSVM : fini\n",
      "cancerS  : fini\n"
     ]
    },
    {
     "data": {
      "text/plain": [
       "(   dataset     OCSVM\n",
       " 0   speech  0.466252\n",
       " 1  cancerS  0.981513,\n",
       "    dataset     OCSVM\n",
       " 0   speech  0.114754\n",
       " 1  cancerS  1.000000,\n",
       "    dataset     OCSVM\n",
       " 0   speech  4.785646\n",
       " 1  cancerS  0.010834)"
      ]
     },
     "execution_count": 5,
     "metadata": {},
     "output_type": "execute_result"
    }
   ],
   "source": [
    "algorithms = [\n",
    "    (\"OCSVM\", run_ocsvm, {}),\n",
    "    ]\n",
    "benchmark_dataset_algo([speech,cancer],algorithms)"
   ]
  },
  {
   "cell_type": "code",
   "execution_count": null,
   "id": "b474d036-8591-431f-a913-0232827a955f",
   "metadata": {},
   "outputs": [],
   "source": []
  }
 ],
 "metadata": {
  "kernelspec": {
   "display_name": "Python 3 (ipykernel)",
   "language": "python",
   "name": "python3"
  },
  "language_info": {
   "codemirror_mode": {
    "name": "ipython",
    "version": 3
   },
   "file_extension": ".py",
   "mimetype": "text/x-python",
   "name": "python",
   "nbconvert_exporter": "python",
   "pygments_lexer": "ipython3",
   "version": "3.12.8"
  }
 },
 "nbformat": 4,
 "nbformat_minor": 5
}
