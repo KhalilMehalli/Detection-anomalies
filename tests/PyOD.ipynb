{
 "cells": [
  {
   "cell_type": "code",
   "execution_count": 1,
   "id": "67c2ee80-b36b-4f05-8878-27d895e5b8f7",
   "metadata": {
    "scrolled": true
   },
   "outputs": [
    {
     "name": "stdout",
     "output_type": "stream",
     "text": [
      "Collecting pyod\n",
      "  Downloading pyod-2.0.5-py3-none-any.whl.metadata (46 kB)\n",
      "Requirement already satisfied: joblib in /home/khalil/ls/envs/sfml/lib/python3.12/site-packages (from pyod) (1.5.0)\n",
      "Requirement already satisfied: matplotlib in /home/khalil/ls/envs/sfml/lib/python3.12/site-packages (from pyod) (3.10.1)\n",
      "Requirement already satisfied: numpy>=1.19 in /home/khalil/ls/envs/sfml/lib/python3.12/site-packages (from pyod) (2.1.3)\n",
      "Collecting numba>=0.51 (from pyod)\n",
      "  Downloading numba-0.61.2-cp312-cp312-manylinux2014_x86_64.manylinux_2_17_x86_64.whl.metadata (2.8 kB)\n",
      "Requirement already satisfied: scipy>=1.5.1 in /home/khalil/ls/envs/sfml/lib/python3.12/site-packages (from pyod) (1.15.2)\n",
      "Requirement already satisfied: scikit-learn>=0.22.0 in /home/khalil/ls/envs/sfml/lib/python3.12/site-packages (from pyod) (1.6.1)\n",
      "Collecting llvmlite<0.45,>=0.44.0dev0 (from numba>=0.51->pyod)\n",
      "  Downloading llvmlite-0.44.0-cp312-cp312-manylinux_2_17_x86_64.manylinux2014_x86_64.whl.metadata (5.0 kB)\n",
      "Requirement already satisfied: threadpoolctl>=3.1.0 in /home/khalil/ls/envs/sfml/lib/python3.12/site-packages (from scikit-learn>=0.22.0->pyod) (3.6.0)\n",
      "Requirement already satisfied: contourpy>=1.0.1 in /home/khalil/ls/envs/sfml/lib/python3.12/site-packages (from matplotlib->pyod) (1.3.2)\n",
      "Requirement already satisfied: cycler>=0.10 in /home/khalil/ls/envs/sfml/lib/python3.12/site-packages (from matplotlib->pyod) (0.12.1)\n",
      "Requirement already satisfied: fonttools>=4.22.0 in /home/khalil/ls/envs/sfml/lib/python3.12/site-packages (from matplotlib->pyod) (4.57.0)\n",
      "Requirement already satisfied: kiwisolver>=1.3.1 in /home/khalil/ls/envs/sfml/lib/python3.12/site-packages (from matplotlib->pyod) (1.4.8)\n",
      "Requirement already satisfied: packaging>=20.0 in /home/khalil/ls/envs/sfml/lib/python3.12/site-packages (from matplotlib->pyod) (24.2)\n",
      "Requirement already satisfied: pillow>=8 in /home/khalil/ls/envs/sfml/lib/python3.12/site-packages (from matplotlib->pyod) (11.2.1)\n",
      "Requirement already satisfied: pyparsing>=2.3.1 in /home/khalil/ls/envs/sfml/lib/python3.12/site-packages (from matplotlib->pyod) (3.2.3)\n",
      "Requirement already satisfied: python-dateutil>=2.7 in /home/khalil/ls/envs/sfml/lib/python3.12/site-packages (from matplotlib->pyod) (2.9.0.post0)\n",
      "Requirement already satisfied: six>=1.5 in /home/khalil/ls/envs/sfml/lib/python3.12/site-packages (from python-dateutil>=2.7->matplotlib->pyod) (1.17.0)\n",
      "Downloading pyod-2.0.5-py3-none-any.whl (200 kB)\n",
      "Downloading numba-0.61.2-cp312-cp312-manylinux2014_x86_64.manylinux_2_17_x86_64.whl (3.9 MB)\n",
      "\u001b[2K   \u001b[90m━━━━━━━━━━━━━━━━━━━━━━━━━━━━━━━━━━━━━━━━\u001b[0m \u001b[32m3.9/3.9 MB\u001b[0m \u001b[31m3.7 MB/s\u001b[0m eta \u001b[36m0:00:00\u001b[0ma \u001b[36m0:00:01\u001b[0m\n",
      "Downloading llvmlite-0.44.0-cp312-cp312-manylinux_2_17_x86_64.manylinux2014_x86_64.whl (42.4 MB)\n",
      "\u001b[2K   \u001b[90m━━━━━━━━━━━━━━━━━━━━━━━━━━━━━━━━━━━━━━━━\u001b[0m \u001b[32m42.4/42.4 MB\u001b[0m \u001b[31m5.0 MB/s\u001b[0m eta \u001b[36m0:00:00\u001b[0m00:01\u001b[0m00:01\u001b[0m\n",
      "Installing collected packages: llvmlite, numba, pyod\n",
      "Successfully installed llvmlite-0.44.0 numba-0.61.2 pyod-2.0.5\n"
     ]
    }
   ],
   "source": [
    "!pip install pyod"
   ]
  },
  {
   "cell_type": "code",
   "execution_count": 1,
   "id": "251fb848-37fc-441a-988a-017db52d98fc",
   "metadata": {},
   "outputs": [],
   "source": [
    "from benchmark import *\n",
    "from creation import barplot\n",
    "from pyod.models.auto_encoder import AutoEncoder\n",
    "from pyod.utils.data import evaluate_print\n",
    "import numpy as np\n",
    "from sklearn.metrics import roc_auc_score, recall_score\n",
    "import matplotlib.pyplot as plt\n",
    "from pyod.models.vae import VAE\n",
    "from pyod.models.deep_svdd import DeepSVDD\n",
    "from pyod.models.ae1svm import AE1SVM\n",
    "from pyod.models.knn import KNN\n",
    " "
   ]
  },
  {
   "cell_type": "code",
   "execution_count": 2,
   "id": "63c3ce51-9b4a-4fbe-bbaa-59c46e66bd0a",
   "metadata": {},
   "outputs": [
    {
     "name": "stdout",
     "output_type": "stream",
     "text": [
      "['../data_rapport/speech.csv', '../data_rapport/kddcup99 http.csv', '../data_rapport/kddcup2014 donneurs .csv', '../data_rapport/satellite.csv', '../data_rapport/fraude.csv', '../data_rapport/cancer du sein.csv', '../data_rapport/shuttle.csv']\n"
     ]
    }
   ],
   "source": [
    "filenames = list_all_file_name_in_folder()\n",
    "datasets = csv_data_into_bunch(filenames)\n",
    "speech = datasets[0]\n",
    "cancer = datasets[5]\n",
    "fraude = datasets[4]\n",
    "print(filenames)"
   ]
  },
  {
   "cell_type": "markdown",
   "id": "1323f3e6-6c9f-4c29-beb8-55002d01ea29",
   "metadata": {},
   "source": [
    "### AutoEncoder"
   ]
  },
  {
   "cell_type": "code",
   "execution_count": 3,
   "id": "61c98a60-e480-41ed-8769-a550a1d5d91f",
   "metadata": {},
   "outputs": [
    {
     "name": "stdout",
     "output_type": "stream",
     "text": [
      "<class 'sklearn.utils._bunch.Bunch'>\n",
      "(3686, 400)\n",
      "(284807, 29)\n",
      "[1. 1. 1. ... 0. 0. 0.]\n"
     ]
    }
   ],
   "source": [
    "print(type(speech))\n",
    "print(speech.data.shape)\n",
    "print(fraude.data.shape)\n",
    "print(speech.target)"
   ]
  },
  {
   "cell_type": "code",
   "execution_count": 4,
   "id": "7caa6202-dd1c-43f1-9865-2cdc2fb9b728",
   "metadata": {},
   "outputs": [],
   "source": [
    "def run_autoencoder(bunch, params):\n",
    "    x, y_ground_truth = bunch.data, bunch.target\n",
    "    AE = AutoEncoder(**params)\n",
    "\n",
    "    # Fit + predict \n",
    "    start = time.perf_counter()\n",
    "    AE.fit(x)\n",
    "    y_pred = AE.predict(x) \n",
    "    elapsed = time.perf_counter() - start\n",
    "\n",
    "    print(type(AE))\n",
    "\n",
    "    scores = AE.decision_function(x)\n",
    "\n",
    "    #### Test, not in the real run_autoencoder function \n",
    "    evaluate_print('AutoEncoder', y_ground_truth, scores)\n",
    "\n",
    "    ####\n",
    "\n",
    "    auc = roc_auc_score(y_ground_truth, scores)\n",
    "    recall = recall_score(y_ground_truth, y_pred)\n",
    "    \n",
    "    return {\n",
    "        'auc':    auc,\n",
    "        'recall': recall,\n",
    "        'time':   elapsed\n",
    "    }"
   ]
  },
  {
   "cell_type": "code",
   "execution_count": 5,
   "id": "f19ea36e-a43d-4983-99e8-1ce17bc9ebd2",
   "metadata": {},
   "outputs": [
    {
     "name": "stderr",
     "output_type": "stream",
     "text": [
      "Training: 100%|███████████████████████████████████████████████████| 10/10 [00:02<00:00,  3.83it/s]\n"
     ]
    },
    {
     "name": "stdout",
     "output_type": "stream",
     "text": [
      "<class 'pyod.models.auto_encoder.AutoEncoder'>\n",
      "AutoEncoder ROC:0.4699, precision @ rank n:0.0328\n",
      "{'auc': np.float64(0.4698564160542679), 'recall': 0.01639344262295082, 'time': 5.4266168659996765}\n"
     ]
    },
    {
     "name": "stderr",
     "output_type": "stream",
     "text": [
      "Training: 100%|███████████████████████████████████████████████████| 10/10 [00:03<00:00,  2.77it/s]\n"
     ]
    },
    {
     "name": "stdout",
     "output_type": "stream",
     "text": [
      "<class 'pyod.models.auto_encoder.AutoEncoder'>\n",
      "AutoEncoder ROC:0.472, precision @ rank n:0.0164\n",
      "{'auc': np.float64(0.4719954776710006), 'recall': 0.01639344262295082, 'time': 3.8183206169996993}\n"
     ]
    },
    {
     "name": "stderr",
     "output_type": "stream",
     "text": [
      "Training: 100%|███████████████████████████████████████████████████| 10/10 [00:05<00:00,  1.84it/s]\n"
     ]
    },
    {
     "name": "stdout",
     "output_type": "stream",
     "text": [
      "<class 'pyod.models.auto_encoder.AutoEncoder'>\n",
      "AutoEncoder ROC:0.4739, precision @ rank n:0.0164\n",
      "{'auc': np.float64(0.4739265121537592), 'recall': 0.01639344262295082, 'time': 5.69213936900087}\n"
     ]
    },
    {
     "name": "stderr",
     "output_type": "stream",
     "text": [
      "Training: 100%|███████████████████████████████████████████████████| 20/20 [00:11<00:00,  1.81it/s]\n"
     ]
    },
    {
     "name": "stdout",
     "output_type": "stream",
     "text": [
      "<class 'pyod.models.auto_encoder.AutoEncoder'>\n",
      "AutoEncoder ROC:0.4721, precision @ rank n:0.0164\n",
      "{'auc': np.float64(0.4721447145279819), 'recall': 0.01639344262295082, 'time': 11.28193344399915}\n"
     ]
    },
    {
     "name": "stderr",
     "output_type": "stream",
     "text": [
      "Training: 100%|███████████████████████████████████████████████████| 10/10 [00:03<00:00,  3.12it/s]\n"
     ]
    },
    {
     "name": "stdout",
     "output_type": "stream",
     "text": [
      "<class 'pyod.models.auto_encoder.AutoEncoder'>\n",
      "AutoEncoder ROC:0.4714, precision @ rank n:0.0164\n",
      "{'auc': np.float64(0.47135330695308086), 'recall': 0.01639344262295082, 'time': 3.389971971000705}\n"
     ]
    },
    {
     "name": "stderr",
     "output_type": "stream",
     "text": [
      "Training: 100%|███████████████████████████████████████████████████| 20/20 [00:06<00:00,  3.08it/s]\n"
     ]
    },
    {
     "name": "stdout",
     "output_type": "stream",
     "text": [
      "<class 'pyod.models.auto_encoder.AutoEncoder'>\n",
      "AutoEncoder ROC:0.4699, precision @ rank n:0.0164\n",
      "{'auc': np.float64(0.46994234030525717), 'recall': 0.01639344262295082, 'time': 6.684873895999772}\n"
     ]
    },
    {
     "name": "stderr",
     "output_type": "stream",
     "text": [
      "Training: 100%|█████████████████████████████████████████████████| 100/100 [00:25<00:00,  3.99it/s]\n"
     ]
    },
    {
     "name": "stdout",
     "output_type": "stream",
     "text": [
      "<class 'pyod.models.auto_encoder.AutoEncoder'>\n",
      "AutoEncoder ROC:0.479, precision @ rank n:0.0164\n",
      "{'auc': np.float64(0.47897795364612783), 'recall': 0.01639344262295082, 'time': 25.222854476000066}\n"
     ]
    },
    {
     "name": "stderr",
     "output_type": "stream",
     "text": [
      "Training: 100%|█████████████████████████████████████████████████| 200/200 [01:14<00:00,  2.70it/s]\n"
     ]
    },
    {
     "name": "stdout",
     "output_type": "stream",
     "text": [
      "<class 'pyod.models.auto_encoder.AutoEncoder'>\n",
      "AutoEncoder ROC:0.5007, precision @ rank n:0.0328\n",
      "{'auc': np.float64(0.5007439231204069), 'recall': 0.03278688524590164, 'time': 74.27410704499925}\n"
     ]
    }
   ],
   "source": [
    "# Default = epoch_num=10, batch_size=32, lr=0.001, hidden_neuron_list=[64, 32], hidden_activation_name='relu'\n",
    "# speech 3650 * 400 \n",
    "tests = [\n",
    "    {'contamination':0.01, 'random_state': 10},\n",
    "    {'contamination':0.01, 'random_state': 10,'hidden_neuron_list' :[128, 64, 32] },\n",
    "    {'contamination':0.01, 'random_state': 10,'hidden_neuron_list' :[256, 128, 64, 32] },\n",
    "    {'contamination':0.01, 'random_state': 10,'hidden_neuron_list' :[256, 128, 64, 32], 'epoch_num' :20},\n",
    "    {'contamination':0.01, 'random_state': 10,'hidden_neuron_list' :[256, 128, 64, 32], 'batch_size' :64},\n",
    "    {'contamination':0.01, 'random_state': 10,'hidden_neuron_list' :[256, 128, 64, 32], 'batch_size' :64 , 'epoch_num' :20},\n",
    "    {'contamination':0.01, 'random_state': 10,'hidden_neuron_list' :[128, 64, 32], 'batch_size' :64 , 'epoch_num' :100},\n",
    "    {'contamination':0.01, 'random_state': 10,'hidden_neuron_list' :[256, 128, 64, 32], 'batch_size' :64 , 'epoch_num' :200}\n",
    "]\n",
    "\n",
    "for i in tests:\n",
    "    res = run_autoencoder(speech,i)\n",
    "    print(res)\n"
   ]
  },
  {
   "cell_type": "code",
   "execution_count": 6,
   "id": "dadbfde4-9f14-4d6a-8567-0c17e2660638",
   "metadata": {},
   "outputs": [
    {
     "name": "stderr",
     "output_type": "stream",
     "text": [
      "Training: 100%|█████████████████████████████████████████████████████████████████████████████████████████████████| 10/10 [03:38<00:00, 21.89s/it]\n"
     ]
    },
    {
     "name": "stdout",
     "output_type": "stream",
     "text": [
      "AutoEncoder ROC:0.9533, precision @ rank n:0.3801\n",
      "{'auc': np.float64(0.9532757702187928), 'recall': 0.6544715447154471, 'time': 237.7655148039994}\n"
     ]
    },
    {
     "name": "stderr",
     "output_type": "stream",
     "text": [
      "Training: 100%|█████████████████████████████████████████████████████████████████████████████████████████████████| 10/10 [05:42<00:00, 34.23s/it]\n"
     ]
    },
    {
     "name": "stdout",
     "output_type": "stream",
     "text": [
      "AutoEncoder ROC:0.9505, precision @ rank n:0.313\n",
      "{'auc': np.float64(0.9505196486377399), 'recall': 0.6117886178861789, 'time': 360.93116471199755}\n"
     ]
    },
    {
     "name": "stderr",
     "output_type": "stream",
     "text": [
      "Training: 100%|█████████████████████████████████████████████████████████████████████████████████████████████████| 10/10 [10:21<00:00, 62.15s/it]\n"
     ]
    },
    {
     "name": "stdout",
     "output_type": "stream",
     "text": [
      "AutoEncoder ROC:0.9513, precision @ rank n:0.3943\n",
      "{'auc': np.float64(0.9512521787854391), 'recall': 0.6626016260162602, 'time': 643.4552038289985}\n"
     ]
    },
    {
     "name": "stderr",
     "output_type": "stream",
     "text": [
      "Training: 100%|█████████████████████████████████████████████████████████████████████████████████████████████████| 20/20 [17:32<00:00, 52.63s/it]\n"
     ]
    },
    {
     "name": "stdout",
     "output_type": "stream",
     "text": [
      "AutoEncoder ROC:0.9522, precision @ rank n:0.3415\n",
      "{'auc': np.float64(0.952197636910509), 'recall': 0.6483739837398373, 'time': 1081.1407605640015}\n"
     ]
    },
    {
     "name": "stderr",
     "output_type": "stream",
     "text": [
      "Training: 100%|███████████████████████████████████████████████████████████████| 10/10 [04:36<00:00, 27.67s/it]\n"
     ]
    },
    {
     "name": "stdout",
     "output_type": "stream",
     "text": [
      "AutoEncoder ROC:0.9441, precision @ rank n:0.3028\n",
      "{'auc': np.float64(0.9441231485059869), 'recall': 0.5650406504065041, 'time': 297.86277288400015}\n"
     ]
    },
    {
     "name": "stderr",
     "output_type": "stream",
     "text": [
      "Training: 100%|███████████████████████████████████████████████████████████████| 20/20 [11:30<00:00, 34.51s/it]\n"
     ]
    },
    {
     "name": "stdout",
     "output_type": "stream",
     "text": [
      "AutoEncoder ROC:0.94, precision @ rank n:0.3577\n",
      "{'auc': np.float64(0.9400395065932968), 'recall': 0.556910569105691, 'time': 708.8273322060013}\n"
     ]
    },
    {
     "name": "stderr",
     "output_type": "stream",
     "text": [
      "Training: 100%|█████████████████████████████████████████████████████████████| 100/100 [31:35<00:00, 18.95s/it]\n"
     ]
    },
    {
     "name": "stdout",
     "output_type": "stream",
     "text": [
      "AutoEncoder ROC:0.9381, precision @ rank n:0.1426\n",
      "{'auc': np.float64(0.9381175679843252), 'recall': 0.4065040650406504, 'time': 1907.5834561049996}\n"
     ]
    }
   ],
   "source": [
    "# http 620 098 * 29\n",
    "tests_fraude = [\n",
    "    {'contamination':0.01, 'random_state': 10},\n",
    "    {'contamination':0.01, 'random_state': 10,'hidden_neuron_list' :[128, 64, 32] },\n",
    "    {'contamination':0.01, 'random_state': 10,'hidden_neuron_list' :[256, 128, 64, 32] },\n",
    "    {'contamination':0.01, 'random_state': 10,'hidden_neuron_list' :[256, 128, 64, 32], 'epoch_num' :20},\n",
    "    {'contamination':0.01, 'random_state': 10,'hidden_neuron_list' :[256, 128, 64, 32], 'batch_size' :64},\n",
    "    {'contamination':0.01, 'random_state': 10,'hidden_neuron_list' :[256, 128, 64, 32], 'batch_size' :64 , 'epoch_num' :20},\n",
    "    {'contamination':0.01, 'random_state': 10,'hidden_neuron_list' :[128, 64, 32], 'batch_size' :64 , 'epoch_num' :100},\n",
    "\n",
    "]\n",
    "\n",
    "\n",
    "for i in tests_fraude:\n",
    "    res = run_autoencoder(fraude,i)\n",
    "    print(res)\n"
   ]
  },
  {
   "cell_type": "markdown",
   "id": "efd353b8-36b7-40b4-abd8-d07eb670e578",
   "metadata": {},
   "source": [
    "### Plot test"
   ]
  },
  {
   "cell_type": "code",
   "execution_count": 12,
   "id": "3d1d76db-3e16-468e-8182-c82ed25db21e",
   "metadata": {},
   "outputs": [],
   "source": [
    "def run_autoencoder_plot(bunch, params):\n",
    "    x, y_ground_truth = bunch.data, bunch.target\n",
    "    AE = AutoEncoder(**params)\n",
    "\n",
    "    # Fit + predict \n",
    "    start = time.perf_counter()\n",
    "    AE.fit(x)\n",
    "    y_pred = AE.predict(x) \n",
    "    elapsed = time.perf_counter() - start\n",
    "\n",
    "    scores = AE.decision_function(x)\n",
    "\n",
    "    #### Test, not in the real run_autoencoder function \n",
    "    evaluate_print('AutoEncoder', y_ground_truth, scores)\n",
    "    scores_proba = AE.predict_proba(x)[:,1]\n",
    "    plt.figure()\n",
    "    barplot(scores_proba,y_ground_truth,title='Outlier scores from predict_proba')\n",
    "    plt.show()\n",
    "\n",
    "    ####\n",
    "\n",
    "    auc = roc_auc_score(y_ground_truth, scores)\n",
    "    recall = recall_score(y_ground_truth, y_pred)\n",
    "    \n",
    "    return {\n",
    "        'auc':    auc,\n",
    "        'recall': recall,\n",
    "        'time':   elapsed\n",
    "    }"
   ]
  },
  {
   "cell_type": "code",
   "execution_count": 16,
   "id": "ca6950dd-a795-4778-9c35-78d6d40691f7",
   "metadata": {},
   "outputs": [
    {
     "name": "stderr",
     "output_type": "stream",
     "text": [
      "Training: 100%|███████████████████████████████████████████████████████████████████████████████████████████████| 200/200 [01:04<00:00,  3.11it/s]\n"
     ]
    },
    {
     "name": "stdout",
     "output_type": "stream",
     "text": [
      "AutoEncoder ROC:0.5007, precision @ rank n:0.0328\n",
      "Plot execution time : 1.7472 s\n"
     ]
    },
    {
     "data": {
      "image/png": "[encoded data removed]",
      "text/plain": [
       "<Figure size 640x480 with 1 Axes>"
      ]
     },
     "metadata": {},
     "output_type": "display_data"
    },
    {
     "name": "stderr",
     "output_type": "stream",
     "text": [
      "Training: 100%|███████████████████████████████████████████████████████████████████████████████████████████████| 200/200 [00:04<00:00, 46.26it/s]\n"
     ]
    },
    {
     "name": "stdout",
     "output_type": "stream",
     "text": [
      "AutoEncoder ROC:0.8955, precision @ rank n:0.2\n",
      "Plot execution time : 0.1434 s\n"
     ]
    },
    {
     "data": {
      "image/png": "[encoded data removed]",
      "text/plain": [
       "<Figure size 640x480 with 1 Axes>"
      ]
     },
     "metadata": {},
     "output_type": "display_data"
    },
    {
     "data": {
      "text/plain": [
       "{'auc': np.float64(0.8955182072829132),\n",
       " 'recall': 0.1,\n",
       " 'time': 4.343577378000191}"
      ]
     },
     "execution_count": 16,
     "metadata": {},
     "output_type": "execute_result"
    }
   ],
   "source": [
    "run_autoencoder_plot(speech,tests[7])\n",
    "run_autoencoder_plot(cancer,tests[7])"
   ]
  },
  {
   "cell_type": "markdown",
   "id": "0a95231d-b83b-4f1e-8b10-0f99776b3317",
   "metadata": {},
   "source": [
    "### VAE, DeepSVDD, AE1SVM, KNN"
   ]
  },
  {
   "cell_type": "code",
   "execution_count": 5,
   "id": "11b553e4-7c22-4f6b-a449-30ec1f2dd3dc",
   "metadata": {},
   "outputs": [],
   "source": [
    "def run_vae(bunch, params):\n",
    "    x, y_ground_truth = bunch.data, bunch.target\n",
    "    VAE_model = VAE(**params)\n",
    "\n",
    "    # Fit + predict \n",
    "    start = time.perf_counter()\n",
    "    VAE_model.fit(x)\n",
    "    y_pred = VAE_model.predict(x)\n",
    "    elapsed = time.perf_counter() - start\n",
    "\n",
    "    # metrics\n",
    "    scores = VAE_model.decision_function(x)\n",
    "    \n",
    "    auc = roc_auc_score(y_ground_truth, scores)\n",
    "    recall = recall_score(y_ground_truth, y_pred)\n",
    "\n",
    "    return {\n",
    "        'auc':    auc,\n",
    "        'recall': recall,\n",
    "        'time':   elapsed\n",
    "    }\n",
    "\n",
    "\n",
    "\n",
    "def run_deepsvdd(bunch, params):\n",
    "    x, y_ground_truth = bunch.data, bunch.target\n",
    "\n",
    "    # DeepSVDD have a mandatory parameters, the features numbers of the dataset      <- <- <-\n",
    "    features = x.shape[1]\n",
    "    params[\"n_features\"] = features\n",
    "    \n",
    "    DS = DeepSVDD(**params)\n",
    "\n",
    "    # Fit + predict \n",
    "    start = time.perf_counter()\n",
    "    DS.fit(x)\n",
    "    y_pred = DS.predict(x)\n",
    "    elapsed = time.perf_counter() - start\n",
    "\n",
    "    # metrics \n",
    "    scores = DS.decision_function(x)\n",
    "    \n",
    "    auc = roc_auc_score(y_ground_truth, scores)\n",
    "    recall = recall_score(y_ground_truth, y_pred)\n",
    "\n",
    "    return {\n",
    "        'auc':    auc,\n",
    "        'recall': recall,\n",
    "        'time':   elapsed\n",
    "    }\n",
    "\n",
    "def run_ae1svm(bunch, params):\n",
    "    x, y_ground_truth = bunch.data, bunch.target\n",
    "\n",
    "    AE1SVM_model = AE1SVM(**params)\n",
    "\n",
    "    # Fit + predict \n",
    "    start = time.perf_counter()\n",
    "    AE1SVM_model.fit(x)\n",
    "    y_pred = AE1SVM_model.predict(x)\n",
    "    elapsed = time.perf_counter() - start\n",
    "\n",
    "    # metrics\n",
    "    scores = AE1SVM_model.decision_function(x)\n",
    "    \n",
    "    auc = roc_auc_score(y_ground_truth, scores)\n",
    "    recall = recall_score(y_ground_truth, y_pred)\n",
    "\n",
    "    return {\n",
    "        'auc':    auc,\n",
    "        'recall': recall,\n",
    "        'time':   elapsed\n",
    "    }\n",
    "\n",
    "def run_knn(bunch, params):\n",
    "    x, y_ground_truth = bunch.data, bunch.target\n",
    "    KNN_model = KNN(**params)\n",
    "\n",
    "    # Fit + predict \n",
    "    start = time.perf_counter()\n",
    "    KNN_model.fit(x)\n",
    "    y_pred = KNN_model.predict(x)\n",
    "    elapsed = time.perf_counter() - start\n",
    "\n",
    "    # metrics\n",
    "    scores = KNN_model.decision_function(x)\n",
    "    \n",
    "    auc = roc_auc_score(y_ground_truth, scores)\n",
    "    recall = recall_score(y_ground_truth, y_pred)\n",
    "\n",
    "    return {\n",
    "        'auc':    auc,\n",
    "        'recall': recall,\n",
    "        'time':   elapsed\n",
    "    }"
   ]
  },
  {
   "cell_type": "code",
   "execution_count": null,
   "id": "e4a2d9ec-cf42-4bae-8a34-289dc673cc64",
   "metadata": {},
   "outputs": [
    {
     "name": "stdout",
     "output_type": "stream",
     "text": [
      "DÉBUT\n",
      "speech  : départ\n",
      "   VAE : départ\n"
     ]
    },
    {
     "name": "stderr",
     "output_type": "stream",
     "text": [
      "Training: 100%|███████████████████████████████████████████████████| 10/10 [00:04<00:00,  2.48it/s]\n"
     ]
    },
    {
     "name": "stdout",
     "output_type": "stream",
     "text": [
      "AUC : 0.4692142453363482 RAPPEL : 0.11475409836065574 TEMPS : 4.272730640999725\n",
      "   VAE : fini\n",
      "   DeepSVDD : départ\n",
      "Epoch 1/10, Loss: 117.88338851928711\n",
      "Epoch 2/10, Loss: 118.48706132173538\n",
      "Epoch 3/10, Loss: 117.46050214767456\n",
      "Epoch 4/10, Loss: 117.51664108037949\n",
      "Epoch 5/10, Loss: 117.7227891087532\n",
      "Epoch 6/10, Loss: 117.84434920549393\n",
      "Epoch 7/10, Loss: 117.77027088403702\n",
      "Epoch 8/10, Loss: 117.94608265161514\n",
      "Epoch 9/10, Loss: 118.0198792219162\n",
      "Epoch 10/10, Loss: 117.94363242387772\n",
      "AUC : 0.4510932730356133 RAPPEL : 0.04918032786885246 TEMPS : 0.8142151449992525\n",
      "   DeepSVDD : fini\n",
      "   AE1SVM : départ\n",
      "Epoch 10/10, Loss: 3.4223757026524377\n",
      "AUC : 0.4691961560203505 RAPPEL : 0.11475409836065574 TEMPS : 5.077405748999809\n",
      "   AE1SVM : fini\n",
      "   KNN : départ\n",
      "AUC : 0.4912334652345958 RAPPEL : 0.11475409836065574 TEMPS : 8.831119897000463\n",
      "   KNN : fini\n",
      "speech  : fini\n",
      "kddcup99 http  : départ\n",
      "   VAE : départ\n"
     ]
    },
    {
     "name": "stderr",
     "output_type": "stream",
     "text": [
      "Training: 100%|███████████████████████████████████████████████████| 10/10 [10:18<00:00, 61.82s/it]\n"
     ]
    },
    {
     "name": "stdout",
     "output_type": "stream",
     "text": [
      "AUC : 0.999577715552481 RAPPEL : 1.0 TEMPS : 647.8023111330003\n",
      "   VAE : fini\n",
      "   DeepSVDD : départ\n"
     ]
    }
   ],
   "source": [
    "algorithms = [\n",
    "    (\"VAE\",          run_vae,       {\"random_state\":10, \"preprocessing\": False,\"epoch_num\": 10}),\n",
    "    (\"DeepSVDD\",     run_deepsvdd,  {\"random_state\":10,\"preprocessing\": False,\"epochs\": 10}),\n",
    "    (\"AE1SVM\",       run_ae1svm,    {\"preprocessing\": False,\"epochs\": 10}),\n",
    "    (\"KNN\",          run_knn,       {})\n",
    "    ]\n",
    "\n",
    "\n",
    "automatisation(datasets, algorithms)"
   ]
  },
  {
   "cell_type": "code",
   "execution_count": null,
   "id": "fe53f8cb-8be4-4b30-b32a-00372cd8e3c9",
   "metadata": {},
   "outputs": [],
   "source": []
  }
 ],
 "metadata": {
  "kernelspec": {
   "display_name": "Python 3 (ipykernel)",
   "language": "python",
   "name": "python3"
  },
  "language_info": {
   "codemirror_mode": {
    "name": "ipython",
    "version": 3
   },
   "file_extension": ".py",
   "mimetype": "text/x-python",
   "name": "python",
   "nbconvert_exporter": "python",
   "pygments_lexer": "ipython3",
   "version": "3.12.8"
  }
 },
 "nbformat": 4,
 "nbformat_minor": 5
}
